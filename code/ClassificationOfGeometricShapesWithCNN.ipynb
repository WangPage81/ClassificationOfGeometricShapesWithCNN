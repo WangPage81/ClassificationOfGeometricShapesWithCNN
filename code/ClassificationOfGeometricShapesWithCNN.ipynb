{
  "nbformat": 4,
  "nbformat_minor": 0,
  "metadata": {
    "colab": {
      "provenance": []
    },
    "kernelspec": {
      "name": "python3",
      "display_name": "Python 3"
    },
    "language_info": {
      "name": "python"
    }
  },
  "cells": [
    {
      "cell_type": "code",
      "source": [
        "# Import PyTorch libraries\n",
        "import torch\n",
        "import torchvision\n",
        "import torchvision.transforms as transforms\n",
        "import torch.nn as nn\n",
        "import torch.optim as optim\n",
        "from torch.autograd import Variable\n",
        "import torch.nn.functional as F\n",
        "\n",
        "# Other libraries we'll use\n",
        "import numpy as np\n",
        "import os\n",
        "import matplotlib.pyplot as plt\n",
        "import matplotlib.image as mpimg\n",
        "%matplotlib inline\n",
        "\n",
        "print(\"Libraries imported - ready to use PyTorch\", torch.__version__)"
      ],
      "metadata": {
        "colab": {
          "base_uri": "https://localhost:8080/"
        },
        "id": "r8XBMOAoiIYa",
        "outputId": "1183c183-c84d-4bc8-e396-90acb4ed2b38"
      },
      "execution_count": 2,
      "outputs": [
        {
          "output_type": "stream",
          "name": "stdout",
          "text": [
            "Libraries imported - ready to use PyTorch 2.5.1+cu124\n"
          ]
        }
      ]
    },
    {
      "cell_type": "code",
      "execution_count": 8,
      "metadata": {
        "colab": {
          "base_uri": "https://localhost:8080/",
          "height": 293
        },
        "id": "hTBFRvhoiAPx",
        "outputId": "6dcf2b17-ae17-4e82-9732-aec703e4232c"
      },
      "outputs": [
        {
          "output_type": "stream",
          "name": "stdout",
          "text": [
            "Drive already mounted at /content/drive; to attempt to forcibly remount, call drive.mount(\"/content/drive\", force_remount=True).\n",
            "3 classes:\n",
            "['circle', 'square', 'triangle']\n"
          ]
        },
        {
          "output_type": "display_data",
          "data": {
            "text/plain": [
              "<Figure size 800x1200 with 3 Axes>"
            ],
            "image/png": "[encoded data removed]"
          },
          "metadata": {}
        }
      ],
      "source": [
        "from google.colab import drive\n",
        "\n",
        "# Mount Google Drive to access files\n",
        "drive.mount('/content/drive')\n",
        "# This mounts your Google Drive to the Colab environment, allowing access to stored files.\n",
        "\n",
        "# Define the file path of the dataset in your Google Drive\n",
        "data_path = '/content/drive/My Drive/CourseRA/Shapes_Classification_CNN/data/'\n",
        "# Replace this with the actual path of the dataset in your Google Drive.\n",
        "\n",
        "\n",
        "# Get the class names\n",
        "classes = os.listdir(data_path)\n",
        "classes.sort()\n",
        "print(len(classes), 'classes:')\n",
        "print(classes)\n",
        "\n",
        "# Show the first image in each folder\n",
        "fig = plt.figure(figsize=(8, 12))\n",
        "i = 0\n",
        "for sub_dir in os.listdir(data_path):\n",
        "    i+=1\n",
        "    img_file = os.listdir(os.path.join(data_path,sub_dir))[0]\n",
        "    img_path = os.path.join(data_path, sub_dir, img_file)\n",
        "    img = mpimg.imread(img_path)\n",
        "    a=fig.add_subplot(1, len(classes),i)\n",
        "    a.axis('off')\n",
        "    imgplot = plt.imshow(img)\n",
        "    a.set_title(img_file)\n",
        "plt.show()"
      ]
    },
    {
      "cell_type": "code",
      "source": [
        "# Function to ingest data using training and test loaders\n",
        "def load_dataset(data_path):\n",
        "    # Load all of the images\n",
        "    transformation = transforms.Compose([\n",
        "        # transform to tensors\n",
        "        transforms.ToTensor(),\n",
        "        # Normalize the pixel values (in R, G, and B channels)\n",
        "        transforms.Normalize(mean=[0.5, 0.5, 0.5], std=[0.5, 0.5, 0.5])\n",
        "    ])\n",
        "\n",
        "    # Load all of the images, transforming them\n",
        "    full_dataset = torchvision.datasets.ImageFolder(\n",
        "        root=data_path,\n",
        "        transform=transformation\n",
        "    )\n",
        "\n",
        "\n",
        "    # Split into training (70% and testing (30%) datasets)\n",
        "    train_size = int(0.7 * len(full_dataset))\n",
        "    test_size = len(full_dataset) - train_size\n",
        "    train_dataset, test_dataset = torch.utils.data.random_split(full_dataset, [train_size, test_size])\n",
        "\n",
        "    # define a loader for the training data we can iterate through in 50-image batches\n",
        "    train_loader = torch.utils.data.DataLoader(\n",
        "        train_dataset,\n",
        "        batch_size=50,\n",
        "        num_workers=0,\n",
        "        shuffle=False\n",
        "    )\n",
        "\n",
        "    # define a loader for the testing data we can iterate through in 50-image batches\n",
        "    test_loader = torch.utils.data.DataLoader(\n",
        "        test_dataset,\n",
        "        batch_size=50,\n",
        "        num_workers=0,\n",
        "        shuffle=False\n",
        "    )\n",
        "\n",
        "    return train_loader, test_loader\n",
        "\n",
        "\n",
        "# Get the iterative dataloaders for test and training data\n",
        "train_loader, test_loader = load_dataset(data_path)\n",
        "print('Data loaders ready')"
      ],
      "metadata": {
        "colab": {
          "base_uri": "https://localhost:8080/"
        },
        "id": "znbKSSboiHh8",
        "outputId": "34cedbc8-e39b-4061-ca83-594e2930ee1c"
      },
      "execution_count": 9,
      "outputs": [
        {
          "output_type": "stream",
          "name": "stdout",
          "text": [
            "Data loaders ready\n"
          ]
        }
      ]
    },
    {
      "cell_type": "code",
      "source": [
        "# Create a neural net class\n",
        "class Net(nn.Module):\n",
        "    # Constructor\n",
        "    def __init__(self, num_classes=3):\n",
        "        super(Net, self).__init__()\n",
        "\n",
        "        # Our images are RGB, so input channels = 3. We'll apply 12 filters in the first convolutional layer\n",
        "        self.conv1 = nn.Conv2d(in_channels=3, out_channels=12, kernel_size=3, stride=1, padding=1)\n",
        "\n",
        "        # We'll apply max pooling with a kernel size of 2\n",
        "        self.pool = nn.MaxPool2d(kernel_size=2)\n",
        "\n",
        "        # A second convolutional layer takes 12 input channels, and generates 12 outputs\n",
        "        self.conv2 = nn.Conv2d(in_channels=12, out_channels=12, kernel_size=3, stride=1, padding=1)\n",
        "\n",
        "        # A third convolutional layer takes 12 inputs and generates 24 outputs\n",
        "        self.conv3 = nn.Conv2d(in_channels=12, out_channels=24, kernel_size=3, stride=1, padding=1)\n",
        "\n",
        "        # A drop layer deletes 20% of the features to help prevent overfitting\n",
        "        self.drop = nn.Dropout2d(p=0.2)\n",
        "\n",
        "        # Our 128x128 image tensors will be pooled twice with a kernel size of 2. 128/2/2 is 32.\n",
        "        # So our feature tensors are now 32 x 32, and we've generated 24 of them\n",
        "        # We need to flatten these and feed them to a fully-connected layer\n",
        "        # to map them to  the probability for each class\n",
        "        self.fc = nn.Linear(in_features=32 * 32 * 24, out_features=num_classes)\n",
        "\n",
        "    def forward(self, x):\n",
        "        # Use a relu activation function after layer 1 (convolution 1 and pool)\n",
        "        x = F.relu(self.pool(self.conv1(x)))\n",
        "\n",
        "        # Use a relu activation function after layer 2 (convolution 2 and pool)\n",
        "        x = F.relu(self.pool(self.conv2(x)))\n",
        "\n",
        "        # Select some features to drop after the 3rd convolution to prevent overfitting\n",
        "        x = F.relu(self.drop(self.conv3(x)))\n",
        "\n",
        "        # Only drop the features if this is a training pass\n",
        "        x = F.dropout(x, training=self.training)\n",
        "\n",
        "        # Flatten\n",
        "        x = x.view(-1, 32 * 32 * 24)\n",
        "        # Feed to fully-connected layer to predict class\n",
        "        x = self.fc(x)\n",
        "        # Return log_softmax tensor\n",
        "        return F.log_softmax(x, dim=1)\n",
        "\n",
        "print(\"CNN model class defined!\")"
      ],
      "metadata": {
        "colab": {
          "base_uri": "https://localhost:8080/"
        },
        "id": "oxY0GXFSz3xL",
        "outputId": "f243c67c-b7df-45f3-e3db-330a2b656a17"
      },
      "execution_count": 10,
      "outputs": [
        {
          "output_type": "stream",
          "name": "stdout",
          "text": [
            "CNN model class defined!\n"
          ]
        }
      ]
    },
    {
      "cell_type": "code",
      "source": [
        "def train(model, device, train_loader, optimizer, epoch):\n",
        "    # Set the model to training mode\n",
        "    model.train()\n",
        "    train_loss = 0\n",
        "    print(\"Epoch:\", epoch)\n",
        "    # Process the images in batches\n",
        "    for batch_idx, (data, target) in enumerate(train_loader):\n",
        "        # Use the CPU or GPU as appropriate\n",
        "        data, target = data.to(device), target.to(device)\n",
        "\n",
        "        # Reset the optimizer\n",
        "        optimizer.zero_grad()\n",
        "\n",
        "        # Push the data forward through the model layers\n",
        "        output = model(data)\n",
        "\n",
        "        # Get the loss\n",
        "        loss = loss_criteria(output, target)\n",
        "\n",
        "        # Keep a running total\n",
        "        train_loss += loss.item()\n",
        "\n",
        "        # Backpropagate\n",
        "        loss.backward()\n",
        "        optimizer.step()\n",
        "\n",
        "        # Print metrics for every 10 batches so we see some progress\n",
        "        if batch_idx % 10 == 0:\n",
        "            print('Training set [{}/{} ({:.0f}%)] Loss: {:.6f}'.format(\n",
        "                batch_idx * len(data), len(train_loader.dataset),\n",
        "                100. * batch_idx / len(train_loader), loss.item()))\n",
        "\n",
        "    # return average loss for the epoch\n",
        "    avg_loss = train_loss / (batch_idx+1)\n",
        "    print('Training set: Average loss: {:.6f}'.format(avg_loss))\n",
        "    return avg_loss\n",
        "\n",
        "\n",
        "def test(model, device, test_loader):\n",
        "    # Switch the model to evaluation mode (so we don't backpropagate or drop)\n",
        "    model.eval()\n",
        "    test_loss = 0\n",
        "    correct = 0\n",
        "    with torch.no_grad():\n",
        "        batch_count = 0\n",
        "        for data, target in test_loader:\n",
        "            batch_count += 1\n",
        "            data, target = data.to(device), target.to(device)\n",
        "\n",
        "            # Get the predicted classes for this batch\n",
        "            output = model(data)\n",
        "\n",
        "            # Calculate the loss for this batch\n",
        "            test_loss += loss_criteria(output, target).item()\n",
        "\n",
        "            # Calculate the accuracy for this batch\n",
        "            _, predicted = torch.max(output.data, 1)\n",
        "            correct += torch.sum(target==predicted).item()\n",
        "\n",
        "    # Calculate the average loss and total accuracy for this epoch\n",
        "    avg_loss = test_loss/batch_count\n",
        "    print('Validation set: Average loss: {:.6f}, Accuracy: {}/{} ({:.0f}%)\\n'.format(\n",
        "        avg_loss, correct, len(test_loader.dataset),\n",
        "        100. * correct / len(test_loader.dataset)))\n",
        "\n",
        "    # return average loss for the epoch\n",
        "    return avg_loss\n",
        "\n",
        "\n",
        "# Now use the train and test functions to train and test the model\n",
        "\n",
        "device = \"cpu\"\n",
        "if (torch.cuda.is_available()):\n",
        "    # if GPU available, use cuda (on a cpu, training will take a considerable length of time!)\n",
        "    device = \"cuda\"\n",
        "print('Training on', device)\n",
        "\n",
        "# Create an instance of the model class and allocate it to the device\n",
        "model = Net(num_classes=len(classes)).to(device)\n",
        "\n",
        "# Use an \"Adam\" optimizer to adjust weights\n",
        "# (see https://pytorch.org/docs/stable/optim.html#algorithms for details of supported algorithms)\n",
        "optimizer = optim.Adam(model.parameters(), lr=0.001)\n",
        "\n",
        "# Specify the loss criteria\n",
        "loss_criteria = nn.CrossEntropyLoss()\n",
        "\n",
        "# Track metrics in these arrays\n",
        "epoch_nums = []\n",
        "training_loss = []\n",
        "validation_loss = []\n",
        "\n",
        "# Train over 5 epochs (in a real scenario, you'd likely use many more)\n",
        "epochs = 5\n",
        "for epoch in range(1, epochs + 1):\n",
        "        train_loss = train(model, device, train_loader, optimizer, epoch)\n",
        "        test_loss = test(model, device, test_loader)\n",
        "        epoch_nums.append(epoch)\n",
        "        training_loss.append(train_loss)\n",
        "        validation_loss.append(test_loss)"
      ],
      "metadata": {
        "colab": {
          "base_uri": "https://localhost:8080/"
        },
        "id": "mPsvvtjyz7ir",
        "outputId": "af6e4a9c-299c-41cb-c17a-1f0ab51b2613"
      },
      "execution_count": 11,
      "outputs": [
        {
          "output_type": "stream",
          "name": "stdout",
          "text": [
            "Training on cpu\n",
            "Epoch: 1\n",
            "Training set [0/840 (0%)] Loss: 1.090883\n",
            "Training set [500/840 (59%)] Loss: 0.948881\n",
            "Training set: Average loss: 1.011710\n",
            "Validation set: Average loss: 0.697786, Accuracy: 261/360 (72%)\n",
            "\n",
            "Epoch: 2\n",
            "Training set [0/840 (0%)] Loss: 0.679328\n",
            "Training set [500/840 (59%)] Loss: 0.461742\n",
            "Training set: Average loss: 0.493282\n",
            "Validation set: Average loss: 0.362988, Accuracy: 275/360 (76%)\n",
            "\n",
            "Epoch: 3\n",
            "Training set [0/840 (0%)] Loss: 0.382893\n",
            "Training set [500/840 (59%)] Loss: 0.184461\n",
            "Training set: Average loss: 0.270930\n",
            "Validation set: Average loss: 0.155222, Accuracy: 344/360 (96%)\n",
            "\n",
            "Epoch: 4\n",
            "Training set [0/840 (0%)] Loss: 0.121820\n",
            "Training set [500/840 (59%)] Loss: 0.117337\n",
            "Training set: Average loss: 0.159412\n",
            "Validation set: Average loss: 0.093178, Accuracy: 352/360 (98%)\n",
            "\n",
            "Epoch: 5\n",
            "Training set [0/840 (0%)] Loss: 0.082422\n",
            "Training set [500/840 (59%)] Loss: 0.054092\n",
            "Training set: Average loss: 0.076421\n",
            "Validation set: Average loss: 0.031242, Accuracy: 359/360 (100%)\n",
            "\n"
          ]
        }
      ]
    },
    {
      "cell_type": "code",
      "source": [
        "%matplotlib inline\n",
        "from matplotlib import pyplot as plt\n",
        "\n",
        "plt.plot(epoch_nums, training_loss)\n",
        "plt.plot(epoch_nums, validation_loss)\n",
        "plt.xlabel('epoch')\n",
        "plt.ylabel('loss')\n",
        "plt.legend(['training', 'validation'], loc='upper right')\n",
        "plt.show()"
      ],
      "metadata": {
        "colab": {
          "base_uri": "https://localhost:8080/",
          "height": 449
        },
        "id": "nNcPaR9Rz_BO",
        "outputId": "5a942123-68cf-42be-90af-e69f286802a5"
      },
      "execution_count": 12,
      "outputs": [
        {
          "output_type": "display_data",
          "data": {
            "text/plain": [
              "<Figure size 640x480 with 1 Axes>"
            ],
            "image/png": "[encoded data removed]"
          },
          "metadata": {}
        }
      ]
    },
    {
      "cell_type": "code",
      "source": [
        "# Pytorch doesn't have a built-in confusion matrix metric, so we'll use SciKit-Learn\n",
        "from sklearn.metrics import confusion_matrix\n",
        "\n",
        "# Set the model to evaluate mode\n",
        "model.eval()\n",
        "\n",
        "# Get predictions for the test data and convert to numpy arrays for use with SciKit-Learn\n",
        "print(\"Getting predictions from test set...\")\n",
        "truelabels = []\n",
        "predictions = []\n",
        "for data, target in test_loader:\n",
        "    for label in target.cpu().data.numpy():\n",
        "        truelabels.append(label)\n",
        "    for prediction in model.cpu()(data).data.numpy().argmax(1):\n",
        "        predictions.append(prediction)\n",
        "\n",
        "# Plot the confusion matrix\n",
        "cm = confusion_matrix(truelabels, predictions)\n",
        "plt.imshow(cm, interpolation=\"nearest\", cmap=plt.cm.Blues)\n",
        "plt.colorbar()\n",
        "tick_marks = np.arange(len(classes))\n",
        "plt.xticks(tick_marks, classes, rotation=45)\n",
        "plt.yticks(tick_marks, classes)\n",
        "plt.xlabel(\"Predicted Shape\")\n",
        "plt.ylabel(\"Actual Shape\")\n",
        "plt.show()"
      ],
      "metadata": {
        "colab": {
          "base_uri": "https://localhost:8080/",
          "height": 500
        },
        "id": "pXdXno4_0CWG",
        "outputId": "6d38da8a-3adf-4f8f-8980-9a1c77d3eee9"
      },
      "execution_count": 13,
      "outputs": [
        {
          "output_type": "stream",
          "name": "stdout",
          "text": [
            "Getting predictions from test set...\n"
          ]
        },
        {
          "output_type": "display_data",
          "data": {
            "text/plain": [
              "<Figure size 640x480 with 2 Axes>"
            ],
            "image/png": "[encoded data removed]"
          },
          "metadata": {}
        }
      ]
    },
    {
      "cell_type": "code",
      "source": [
        "# Save the model weights\n",
        "model_file = '/content/drive/My Drive/CourseRA/Shapes_Classification_CNN/model/shape_classifier.pt'\n",
        "torch.save(model.state_dict(), model_file)\n",
        "del model\n",
        "print('model saved as', model_file)"
      ],
      "metadata": {
        "colab": {
          "base_uri": "https://localhost:8080/"
        },
        "id": "EQLc6sh90IUc",
        "outputId": "155feb1f-61b4-4dae-8338-37b03d7e87b9"
      },
      "execution_count": 15,
      "outputs": [
        {
          "output_type": "stream",
          "name": "stdout",
          "text": [
            "model saved as /content/drive/My Drive/CourseRA/Shapes_Classification_CNN/model/shape_classifier.pt\n"
          ]
        }
      ]
    },
    {
      "cell_type": "code",
      "source": [
        "import matplotlib.pyplot as plt\n",
        "import os\n",
        "from random import randint\n",
        "%matplotlib inline\n",
        "\n",
        "\n",
        "# Function to predict the class of an image\n",
        "def predict_image(classifier, image):\n",
        "    import numpy\n",
        "\n",
        "    # Set the classifer model to evaluation mode\n",
        "    classifier.eval()\n",
        "\n",
        "    # Apply the same transformations as we did for the training images\n",
        "    transformation = transforms.Compose([\n",
        "        transforms.ToTensor(),\n",
        "        transforms.Normalize(mean=[0.5, 0.5, 0.5], std=[0.5, 0.5, 0.5])\n",
        "    ])\n",
        "\n",
        "    # Preprocess the image\n",
        "    image_tensor = transformation(image).float()\n",
        "\n",
        "    # Add an extra batch dimension since pytorch treats all inputs as batches\n",
        "    image_tensor = image_tensor.unsqueeze_(0)\n",
        "\n",
        "    # Turn the input into a Variable\n",
        "    input_features = Variable(image_tensor)\n",
        "\n",
        "    # Predict the class of the image\n",
        "    output = classifier(input_features)\n",
        "    index = output.data.numpy().argmax()\n",
        "    return index\n",
        "\n",
        "\n",
        "# Function to create a random image (of a square, circle, or triangle)\n",
        "def create_image (size, shape):\n",
        "    from random import randint\n",
        "    import numpy as np\n",
        "    from PIL import Image, ImageDraw\n",
        "\n",
        "    xy1 = randint(10,40)\n",
        "    xy2 = randint(60,100)\n",
        "    col = (randint(0,200), randint(0,200), randint(0,200))\n",
        "\n",
        "    img = Image.new(\"RGB\", size, (255, 255, 255))\n",
        "    draw = ImageDraw.Draw(img)\n",
        "\n",
        "    if shape == 'circle':\n",
        "        draw.ellipse([(xy1,xy1), (xy2,xy2)], fill=col)\n",
        "    elif shape == 'triangle':\n",
        "        draw.polygon([(xy1,xy1), (xy2,xy2), (xy2,xy1)], fill=col)\n",
        "    else: # square\n",
        "        draw.rectangle([(xy1,xy1), (xy2,xy2)], fill=col)\n",
        "    del draw\n",
        "\n",
        "    return np.array(img)\n",
        "\n",
        "# Create a random test image\n",
        "classnames = os.listdir(data_path)\n",
        "classnames.sort()\n",
        "shape = classnames[randint(0, len(classnames)-1)]\n",
        "img = create_image ((128,128), shape)\n",
        "\n",
        "# Display the image\n",
        "plt.axis('off')\n",
        "plt.imshow(img)\n",
        "\n",
        "# Create a new model class and load the saved weights\n",
        "model = Net()\n",
        "model.load_state_dict(torch.load(model_file))\n",
        "\n",
        "# Call the predction function\n",
        "index = predict_image(model, img)\n",
        "print(classes[index])"
      ],
      "metadata": {
        "colab": {
          "base_uri": "https://localhost:8080/",
          "height": 478
        },
        "id": "abqlRGoe0LRD",
        "outputId": "42f656a5-2553-49de-d0ed-af917528d94e"
      },
      "execution_count": 28,
      "outputs": [
        {
          "output_type": "stream",
          "name": "stdout",
          "text": [
            "circle\n"
          ]
        },
        {
          "output_type": "stream",
          "name": "stderr",
          "text": [
            "<ipython-input-28-61bfe9fc5045>:70: FutureWarning: You are using `torch.load` with `weights_only=False` (the current default value), which uses the default pickle module implicitly. It is possible to construct malicious pickle data which will execute arbitrary code during unpickling (See https://github.com/pytorch/pytorch/blob/main/SECURITY.md#untrusted-models for more details). In a future release, the default value for `weights_only` will be flipped to `True`. This limits the functions that could be executed during unpickling. Arbitrary objects will no longer be allowed to be loaded via this mode unless they are explicitly allowlisted by the user via `torch.serialization.add_safe_globals`. We recommend you start setting `weights_only=True` for any use case where you don't have full control of the loaded file. Please open an issue on GitHub for any issues related to this experimental feature.\n",
            "  model.load_state_dict(torch.load(model_file))\n"
          ]
        },
        {
          "output_type": "display_data",
          "data": {
            "text/plain": [
              "<Figure size 640x480 with 1 Axes>"
            ],
            "image/png": "[encoded data removed]"
          },
          "metadata": {}
        }
      ]
    }
  ]
}